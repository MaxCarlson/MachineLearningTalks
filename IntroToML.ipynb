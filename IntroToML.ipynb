{
 "cells": [
  {
   "attachments": {},
   "cell_type": "markdown",
   "metadata": {
    "slideshow": {
     "slide_type": "slide"
    },
    "tags": []
   },
   "source": [
    "### What Makes ML Interesting\n",
    "\n",
    "- Normally a programmer writes explicit rules a program follows\n",
    "\n",
    "    - This works for things we have the ability to conceptualize\n",
    "\n",
    "    - However, this becomes more difficult as complexity increases\n",
    "\n",
    "        - Write a program that...\n",
    "\n",
    "            - identifies if an image is of a human face\n",
    "\n",
    "            - accuratly captions an image\n",
    "\n",
    "\n",
    "- ML models start from an essentially random state\n",
    "\n",
    "    - They learn over time\n",
    "\n",
    "    - They don't require input from a programmer once trained\n",
    "<br></br>\n",
    "\n",
    "\n",
    "\n",
    "\n"
   ]
  },
  {
   "attachments": {},
   "cell_type": "markdown",
   "metadata": {
    "slideshow": {
     "slide_type": "slide"
    },
    "tags": []
   },
   "source": [
    "### Machine Learning Paradigms\n",
    "\n",
    "- Supervised learning\n",
    "- Unsupervised learning\n",
    "- Reinforcement learning\n",
    "\n"
   ]
  },
  {
   "attachments": {},
   "cell_type": "markdown",
   "metadata": {
    "slideshow": {
     "slide_type": "slide"
    }
   },
   "source": [
    "### Supervised Learning\n",
    "\n",
    "- Predict something given some data"
   ]
  },
  {
   "attachments": {},
   "cell_type": "markdown",
   "metadata": {
    "slideshow": {
     "slide_type": "slide"
    },
    "tags": []
   },
   "source": [
    "### Inputs  \n",
    "\n",
    "- Data you want to learn a representation of\n",
    "\n",
    "- Input data commonly resembles a spread sheet\n",
    "    - Each row, a single input to our model\n",
    "    \n",
    "    - An input (or sample) is composed of a set of features\n",
    "        - Each distinct feature gets its own column in the sheet\n",
    "   \n"
   ]
  },
  {
   "attachments": {},
   "cell_type": "markdown",
   "metadata": {
    "slideshow": {
     "slide_type": "slide"
    },
    "tags": []
   },
   "source": [
    "### Targets\n",
    "\n",
    "- What are we trying to predict?\n",
    "\n",
    "- A target represents the ideal output of a model for a given sample\n",
    "- Sometimes stored as the last column in a sheet\n",
    "\n",
    "<br/> \n",
    "<br/> \n",
    "\n",
    "| Height | Weight | Gender | Age | Smokes | % chance of developing heart disease over next yr |\n",
    "| --- | --- | --- | --- | --- | --- |\n",
    "| 71 | 165 | 1 | 27 | 1 | 0.170 |\n",
    "| 64 | 137 | 0 | 41 | 0 | 0.053 |"
   ]
  },
  {
   "cell_type": "code",
   "execution_count": 1,
   "metadata": {
    "slideshow": {
     "slide_type": "slide"
    },
    "tags": []
   },
   "outputs": [
    {
     "data": {
      "image/png": "[encoded data removed]",
      "text/plain": [
       "<Figure size 640x480 with 6 Axes>"
      ]
     },
     "metadata": {},
     "output_type": "display_data"
    }
   ],
   "source": [
    "import matplotlib.pyplot as plt\n",
    "from torchvision import datasets, transforms\n",
    "from torch.utils.data import DataLoader\n",
    "\n",
    "mnistDataset = datasets.MNIST('./data', train=True, download=True, \n",
    "                                transform=transforms.Compose([\n",
    "                                    transforms.ToTensor(),\n",
    "                                    transforms.Normalize(\n",
    "                                        (0.1307,), # Mean\n",
    "                                        (0.3081,)  # std.\n",
    "                                        )\n",
    "                                ]))\n",
    "\n",
    "mnistExample = DataLoader(mnistDataset, batch_size=6)\n",
    "batchIdx, (exampleData, exampleTargets) = next(enumerate(mnistExample))\n",
    "\n",
    "fig = plt.figure()\n",
    "for i in range(6):\n",
    "    plt.subplot(2,3,i+1)\n",
    "    plt.tight_layout()\n",
    "    plt.imshow(exampleData[i][0], cmap='gray', interpolation='none')\n",
    "    plt.title(\"Ground Truth: {}\".format(exampleTargets[i]))\n",
    "    plt.xticks([])\n",
    "    plt.yticks([])"
   ]
  },
  {
   "attachments": {},
   "cell_type": "markdown",
   "metadata": {
    "slideshow": {
     "slide_type": "slide"
    },
    "tags": []
   },
   "source": [
    "### Dataset Symbols\n",
    "\n",
    "- $N$ number of samples\n",
    "- $M$ number of features\n",
    "- $x_i$ a single input\n",
    "    - $x_i$ is a vector of features of `length(M)`\n",
    "    <br></br>\n",
    "- $y_i$ target output for $x_i$\n",
    "    - Ground truth label  \n",
    "    <br></br>\n",
    "- $\\hat{y_i}$ output of our model for input $x_i$"
   ]
  },
  {
   "attachments": {},
   "cell_type": "markdown",
   "metadata": {
    "slideshow": {
     "slide_type": "slide"
    },
    "tags": []
   },
   "source": [
    "### Representations\n",
    "\n",
    "- The goal of our model (NN) is to learn a representation of $f$ such that $ f(x) = y $\n",
    "    - Especially for $(x,y)$ pairs outside our training data\n",
    "<br></br>\n",
    "- The actual output of our model: $f(x) = \\hat{y}$\n",
    "\n",
    "- Realistically:\n",
    "    - We want to minimize the error between our outputs $(\\hat{y})$ and targets $(y)$ over all such pairs"
   ]
  },
  {
   "attachments": {},
   "cell_type": "markdown",
   "metadata": {},
   "source": [
    "### Classification vs. Regression\n",
    "\n",
    "- Regression problems involve continuous ouputs instead of a discreet set\n",
    "\n",
    "- Classification problems involve a discreet number of possible outputs\n",
    "- Neural networks dont do well using a single output $\\hat{y} \\in \\mathbb{R}$ for clasification problems\n",
    "    - Targets are usually encoded as one-hot vectors for classification\n",
    "    \n",
    "<br></br>\n",
    "<img src=\"images/regression_vs_classification.png\" width=\"650\">"
   ]
  },
  {
   "attachments": {},
   "cell_type": "markdown",
   "metadata": {
    "slideshow": {
     "slide_type": "slide"
    }
   },
   "source": [
    "### One-hot encoding\n",
    "\n",
    "- Our handwritten digit problem is a classification problem with $10$ discreet possible classes\n",
    "    - Instead of one number, we use 10 probabilities\n",
    "<br></br>\n",
    "- One-hot example $y = 2$ \n",
    "    - $y = [0, 0, 1, 0, 0, 0, 0, 0, 0, 0]$\n",
    "<br></br>\n",
    "- Actual output from output network, $\\hat{y}$, will look something like so\n",
    "\n",
    "    - $\\hat{y} = [0.10,\\ 0.03,\\ 0.17,\\ 0.02,\\ 0.26,\\ 0.13,\\ 0.07,\\ 0.01,\\ 0.19,\\ 0.02]$\n",
    "    \n",
    "    - Probabilities sum to $\\approx 1.0$"
   ]
  },
  {
   "attachments": {},
   "cell_type": "markdown",
   "metadata": {
    "slideshow": {
     "slide_type": "slide"
    }
   },
   "source": [
    "\n",
    "### Neurons\n",
    "\n",
    "<img src=\"images/neuron.png\" width=\"400\">\n",
    "\n",
    "- For neuron $j$ in layer $k$, $neuron_j^k$\n",
    "\n",
    "    - Net input $z_j = net_j = \\sum_{i=1}^{n}x_i w_{ij}^k + b_j$\n",
    "    \n",
    "    - The output $\\phi(z_j) = o_j$"
   ]
  },
  {
   "attachments": {},
   "cell_type": "markdown",
   "metadata": {
    "slideshow": {
     "slide_type": "slide"
    }
   },
   "source": [
    "### Activation Functions\n",
    "\n",
    "- Simulate the on/off firing of a biological neuron  \n",
    "\n",
    "- Must have a derivative at all points*\n",
    "- Sigmoid\n",
    "    - $\\phi(z) = \\frac{1}{1 + e^{-z}}$\n",
    "    \n",
    "- ReLU\n",
    "    - $\\phi(z) = max(0, z)$\n",
    "    \n",
    "    - *not differentiable at $0$ so derivative @ $0$ is usually set to $0$ or $1$\n",
    "- Linear\n",
    "    - $\\phi(z) = mz + b \\equiv I(z)$  \n",
    "    - not useful for MLP's\n",
    "    \n"
   ]
  },
  {
   "attachments": {},
   "cell_type": "markdown",
   "metadata": {
    "slideshow": {
     "slide_type": "slide"
    }
   },
   "source": [
    "#### Sigmoid\n",
    "<img src=\"images/sigmoid.png\" width=\"400\">\n",
    "\n",
    "#### ReLU\n",
    "<img src=\"images/relu.png\" width=\"400\">"
   ]
  },
  {
   "attachments": {},
   "cell_type": "markdown",
   "metadata": {
    "slideshow": {
     "slide_type": "slide"
    },
    "tags": []
   },
   "source": [
    "### Fully Connected Feed-Forward Neural Network Structure\n",
    "\n",
    "- A fully connected feed forward neural network...\n",
    "<br></br>\n",
    "    - Composed of layers of neurons\n",
    "    - Connections represent a weight\n",
    "        - Are one-way (to the right)\n",
    "        <br></br>\n",
    "    - The output of a neuron is passed to every neuron in the next layer"
   ]
  },
  {
   "attachments": {},
   "cell_type": "markdown",
   "metadata": {
    "slideshow": {
     "slide_type": "slide"
    }
   },
   "source": [
    "\n",
    "<img src=\"images/A-fully-connected-neural-network-with-two-hidden-layers.png\" width=\"400\">\n"
   ]
  },
  {
   "attachments": {},
   "cell_type": "markdown",
   "metadata": {},
   "source": [
    "### Forward Pass\n",
    "\n",
    "<img src=\"images/forward-pass-diagram.png\" width=\"600\">\n",
    "<img src=\"images/matrix_mul.png\" width=\"800\">\n"
   ]
  },
  {
   "attachments": {},
   "cell_type": "markdown",
   "metadata": {
    "slideshow": {
     "slide_type": "slide"
    }
   },
   "source": [
    "### Forward Pass\n",
    "\n",
    "- Generates an output from an input via the forward pass\n",
    "\n",
    "    - Use inputs to calculate outputs of all first layer neurons\n",
    "    \n",
    "    - Use output of first layer neurons to calculate outputs of 2nd layer\n",
    "    - etc.\n",
    "    <br></br>"
   ]
  },
  {
   "cell_type": "code",
   "execution_count": 2,
   "metadata": {},
   "outputs": [
    {
     "name": "stdout",
     "output_type": "stream",
     "text": [
      "Net(\n",
      "  (flatten): Flatten(start_dim=1, end_dim=-1)\n",
      "  (l1): Linear(in_features=784, out_features=128, bias=True)\n",
      "  (l2): Linear(in_features=128, out_features=128, bias=True)\n",
      "  (l3): Linear(in_features=128, out_features=10, bias=True)\n",
      ")\n"
     ]
    }
   ],
   "source": [
    "import torch\n",
    "import torch.nn as nn\n",
    "import torch.nn.functional as F\n",
    "import torch.optim as optim\n",
    "\n",
    "batchSize = 32\n",
    "train_loader = DataLoader(mnistDataset, batch_size=batchSize, shuffle=True)\n",
    "test_loader = DataLoader(mnistDataset, batch_size=batchSize, shuffle=False)\n",
    "\n",
    "class Net(nn.Module):\n",
    "    def __init__(self):\n",
    "        super(Net, self).__init__()\n",
    "        self.flatten = nn.Flatten()\n",
    "        self.l1 = nn.Linear(784, 128)\n",
    "        self.l2 = nn.Linear(128, 128)\n",
    "        self.l3 = nn.Linear(128, 10)\n",
    "\n",
    "    def forward(self, x):\n",
    "        x = self.flatten(x)\n",
    "        x = self.l1(x)\n",
    "        x = F.relu(x)\n",
    "        x = self.l2(x)\n",
    "        x = F.relu(x)\n",
    "        x = self.l3(x)\n",
    "        return F.log_softmax(x, dim=1)\n",
    "    \n",
    "network = Net()\n",
    "print(network)"
   ]
  },
  {
   "attachments": {},
   "cell_type": "markdown",
   "metadata": {
    "slideshow": {
     "slide_type": "slide"
    }
   },
   "source": [
    "### Useless Without Training\n",
    "\n",
    "- Neural networks start with effectively random weights\n",
    "    - Random outputs wrt. inputs before training\n",
    "<br></br>\n",
    "- Training needs to update the weights and biases of the network such that\n",
    "\n",
    "    - Error will be lower after the change using the same inputs\n",
    "\n",
    "    - Parameters that contribute to a good result are reinforced\n",
    "\n",
    "    - Parameters that contribute to a bad result are negatively reinforced\n",
    "\n",
    "- Training involves calculating the error of the networks output\n",
    "\n",
    "    - Using the error to change the parameters of our network to decrease future error\n"
   ]
  },
  {
   "attachments": {},
   "cell_type": "markdown",
   "metadata": {
    "slideshow": {
     "slide_type": "slide"
    },
    "tags": []
   },
   "source": [
    "### Error / Loss\n",
    "\n",
    "- How inaccurate is our model?\n",
    "\n",
    "- Error function must be differentiable\n",
    "\n",
    "- $E(X) = MAE = \\dfrac{|\\hat{y} - y|}{N} = \\dfrac{\\sum_{i}^{N}{|\\hat{y}_i - y_i|}}{N} = L1 \\ norm$\n",
    "<br><br>\n",
    "- $E(X) = MSE = \\dfrac{(\\hat{y} - y)^2}{N} = \\dfrac{\\sum_{i}^{N}{(\\hat{y}_i - y_i)^2}}{N} = L2 \\ norm$"
   ]
  },
  {
   "attachments": {},
   "cell_type": "markdown",
   "metadata": {
    "slideshow": {
     "slide_type": "slide"
    }
   },
   "source": [
    "### Cross-entropy loss\n",
    "\n",
    "- An example of a loss function for catagorical targets\n",
    "<br></br>\n",
    "- $L_{CE} = -\\sum_{i=1}^{C}t_i log(p_i)$\n",
    "    - $t_i$ truth label\n",
    "    - $p_i$ softmax probability from our output\n",
    "<br></br>\n",
    "- This really just boils down to the below in problems with only one true index\n",
    "\n",
    "    - $L_{CE}=-log(p_{i=true\\_idx})$"
   ]
  },
  {
   "cell_type": "code",
   "execution_count": 3,
   "metadata": {
    "slideshow": {
     "slide_type": "skip"
    }
   },
   "outputs": [],
   "source": [
    "import os\n",
    "def saveNetwork(network, optimizer, modelName, epoch):\n",
    "    if not os.path.exists(f'results/{modelName}'):\n",
    "        os.makedirs(f'results/{modelName}')\n",
    "    torch.save(network.state_dict(), f'results/{modelName}/{epoch}-model.pth')\n",
    "    torch.save(optimizer.state_dict(), f'results/{modelName}/{epoch}-optim.pth')\n",
    "\n",
    "log_interval = 10\n",
    "def batchWork(network, optimizer, modelName, batch_idx, epoch, loss, train_losses, train_counter, printBatchInfo):   \n",
    "    if printBatchInfo:\n",
    "        print('Train Epoch: {} [{}/{} ({:.0f}%)]\\tLoss: {:.6f}'.format(\n",
    "            epoch, batch_idx * len(x), len(train_loader.dataset),\n",
    "            100. * batch_idx / len(train_loader), loss.item()))\n",
    "    train_losses.append(loss.item())\n",
    "    train_counter.append(\n",
    "        (batch_idx*batchSize) + ((epoch-1)*len(train_loader.dataset)))\n",
    "    saveNetwork(network, optimizer, modelName, epoch)"
   ]
  },
  {
   "cell_type": "code",
   "execution_count": 4,
   "metadata": {
    "slideshow": {
     "slide_type": "slide"
    }
   },
   "outputs": [],
   "source": [
    "lr = 0.001\n",
    "optimizer = optim.SGD(network.parameters(), lr=lr)\n",
    "lossFn = nn.CrossEntropyLoss()\n",
    "\n",
    "epochs = 6\n",
    "train_losses    = []\n",
    "train_counter   = []\n",
    "test_losses     = []\n",
    "test_counter    = [i*len(train_loader.dataset) for i in range(epochs + 1)]\n",
    "\n",
    "def train(epoch, modelName, printBatchInfo = False):\n",
    "    network.train()\n",
    "    for batch_idx, (x, y) in enumerate(train_loader):\n",
    "        optimizer.zero_grad()\n",
    "\n",
    "        output = network(x)         # Forward Pass\n",
    "\n",
    "        loss = lossFn(output, y)    # Calculate batch loss\n",
    "\n",
    "        loss.backward()             # Compute dloss/dw for all weights & biases w\n",
    "                                    # Compute gradient for all w\n",
    "\n",
    "        optimizer.step()            # w_new = w_current - lr * w.gradient\n",
    "        \n",
    "        if batch_idx % log_interval == 0:\n",
    "            batchWork(network, optimizer, modelName, batch_idx, \n",
    "                      epoch, loss, train_losses, train_counter, printBatchInfo)\n",
    "\n",
    "#for epoch in range(1, 2):\n",
    "#    train(epoch, modelName='tmpModel', printBatchInfo=True)\n"
   ]
  },
  {
   "attachments": {},
   "cell_type": "markdown",
   "metadata": {
    "slideshow": {
     "slide_type": "slide"
    }
   },
   "source": [
    "#### Example batch training output\n",
    "```\n",
    "Train Epoch: 1 [0/60000 (0%)]\tLoss: 2.334714\n",
    "Train Epoch: 1 [280/60000 (1%)]\tLoss: 1.131673\n",
    "Train Epoch: 1 [560/60000 (1%)]\tLoss: 0.775013\n",
    "Train Epoch: 1 [840/60000 (2%)]\tLoss: 0.521945\n",
    "Train Epoch: 1 [1120/60000 (2%)]\tLoss: 0.847648\n",
    "Train Epoch: 1 [1400/60000 (3%)]\tLoss: 0.495903\n",
    "Train Epoch: 1 [1680/60000 (3%)]\tLoss: 0.422707\n",
    "Train Epoch: 1 [1960/60000 (4%)]\tLoss: 0.784840\n",
    "Train Epoch: 1 [2240/60000 (4%)]\tLoss: 0.450909\n",
    "Train Epoch: 1 [2520/60000 (5%)]\tLoss: 0.247951\n",
    "Train Epoch: 1 [2800/60000 (5%)]\tLoss: 0.739784\n",
    "```"
   ]
  },
  {
   "attachments": {},
   "cell_type": "markdown",
   "metadata": {
    "slideshow": {
     "slide_type": "slide"
    }
   },
   "source": [
    "### We Have the Error, Now What?\n",
    "\n",
    "- We need to propogate our error back through the network in a manner such that\n",
    "\n",
    "    - We change the weights in a direction to minimize error on the current sample(s)\n",
    "\n",
    "    - To do this, we need to know the 'direction' our parameters need to be moved in that results in a decrease of error\n",
    "\n",
    "        - To find how a function changes at a point, we need derivatives\n",
    "\n",
    "        - To find how a function (our error) changes with respect to a single parameter, we need partial derivatives"
   ]
  },
  {
   "attachments": {},
   "cell_type": "markdown",
   "metadata": {},
   "source": [
    "### Derivatives  \n",
    "\n",
    "- Assuming we have a function $f(x)$\n",
    "\n",
    "- The derivative of $f$ with respect to $x$ is  \n",
    "\n",
    "    - #### $\\frac{df}{dx}$\n",
    "    \n",
    "    - Rate of change of $f$ wrt. $x$\n",
    "    - Slope of the tangent line for $f(x)$ with respect to $x$\n",
    "    \n",
    "\n",
    "\n",
    "### Partial Derivatives\n",
    "\n",
    "- Assuming we have a function $f(x_1, ..., x_n)$\n",
    "\n",
    "- #### $\\frac{\\partial f}{\\partial x_1}$\n",
    "\n",
    "    - Tells us how $f(x_1, ..., x_n)$ changes wrt. $x_1$ while all other variables are held constant\n",
    "<br></br>\n",
    "- [Partial playground](https://www.geogebra.org/m/ptzufvkv)"
   ]
  },
  {
   "attachments": {},
   "cell_type": "markdown",
   "metadata": {
    "slideshow": {
     "slide_type": "slide"
    }
   },
   "source": [
    "<img src=\"images/partial_x.png\" width=\"600\">\n",
    "<img src=\"images/partial_y.png\" width=\"600\">"
   ]
  },
  {
   "attachments": {},
   "cell_type": "markdown",
   "metadata": {
    "slideshow": {
     "slide_type": "slide"
    }
   },
   "source": [
    "### Gradients  \n",
    "\n",
    "- The gradient of $f(x)$ is represented $\\nabla f(x)$\n",
    "\n",
    "- If $p = (x_1, x_2, ... , x_n)$\n",
    "\n",
    "    - #### $\\nabla f(p) = [\\frac{\\partial{f}}{\\partial{x_1}}(p), \\frac{\\partial{f}}{\\partial{x_2}}(p), ...\\ , \\frac{\\partial{f}}{\\partial{x_n}}(p)]$\n",
    "\n",
    "- The gradient represents the \"direction and rate of fastest increase\" \n",
    "    - holding both a direction and magnitude (usually in the form of a vector)"
   ]
  },
  {
   "attachments": {},
   "cell_type": "markdown",
   "metadata": {},
   "source": [
    "##### Gradient at $f(-5,5)$\n",
    "\n",
    "<img src=\"images/Directional_derivative_contour_plot.svg.png\" width=\"450\">\n",
    "<img src=\"images/gradient-field.jpg\" width=\"550\">\n"
   ]
  },
  {
   "attachments": {},
   "cell_type": "markdown",
   "metadata": {
    "slideshow": {
     "slide_type": "slide"
    }
   },
   "source": [
    "### Gradient Descent\n",
    "\n",
    "- Algorithm for finding a local minimum of a differentiable function $f(p)$\n",
    "\n",
    "- Steps:\n",
    "    - Find the gradient of $f$ at point $p_n$, $\\nabla f(p_n)$\n",
    "\n",
    "        - This gives us the step direction and a multiple of the step size\n",
    "    <br></br>\n",
    "    - Multiply the learning rate, $\\eta$, by $\\nabla f(p_n)$\n",
    "\n",
    "        - Scales step size by $\\eta$\n",
    "    <br></br>\n",
    "    - From our original point, $p_n$, subtract our scaled step vector $\\eta \\nabla f(p_n)$\n",
    "    \n",
    "        - We now have $p_{n+1}$\n",
    "    <br></br>\n",
    "- Formula:\n",
    "    - $p_{n+1} = p_n - \\eta \\nabla f(p_n)$"
   ]
  },
  {
   "attachments": {},
   "cell_type": "markdown",
   "metadata": {
    "slideshow": {
     "slide_type": "slide"
    }
   },
   "source": [
    "<img src=\"images/sgd.png\" width=\"622\">\n",
    "<img src=\"images/global_min_1.png\" width=\"600\">\n",
    "<img src=\"images/non-convex-sgd.jpg\" width=\"506\">"
   ]
  },
  {
   "attachments": {},
   "cell_type": "markdown",
   "metadata": {
    "slideshow": {
     "slide_type": "slide"
    }
   },
   "source": [
    "### Stochastic Gradient Descent\n",
    "\n",
    "- Traditional Gradient Descent requires a complete gradient be calculated\n",
    "\n",
    "- To calculate a complete gradient for our error function $E(X)$\n",
    "    - $X$ must be equal to all our training data\n",
    "    - Not usually feasible for enormous datasets\n",
    "    <br></br>\n",
    "- SGD calculates and uses a partial gradient using a randomized subset of training samples\n",
    "- Sometimes called Batch Gradient Descent"
   ]
  },
  {
   "attachments": {},
   "cell_type": "markdown",
   "metadata": {},
   "source": [
    "### Starting Parameters\n",
    "\n",
    "- Weight randomization @ initialization\n",
    "\n",
    "<img src=\"images/starting-parameters.png\" width=\"600\">"
   ]
  },
  {
   "cell_type": "code",
   "execution_count": 5,
   "metadata": {
    "slideshow": {
     "slide_type": "slide"
    }
   },
   "outputs": [
    {
     "name": "stdout",
     "output_type": "stream",
     "text": [
      "Test set: Avg. loss: 2.3103, Accuracy: 5733/60000 (10%)\n",
      "Test set: Avg. loss: 1.2058, Accuracy: 47190/60000 (79%)\n",
      "Test set: Avg. loss: 0.5647, Accuracy: 51461/60000 (86%)\n",
      "Test set: Avg. loss: 0.4353, Accuracy: 52849/60000 (88%)\n",
      "Test set: Avg. loss: 0.3813, Accuracy: 53610/60000 (89%)\n",
      "Test set: Avg. loss: 0.3482, Accuracy: 54036/60000 (90%)\n",
      "Test set: Avg. loss: 0.3261, Accuracy: 54380/60000 (91%)\n"
     ]
    }
   ],
   "source": [
    "test_accuracy = []\n",
    "def test():\n",
    "    network.eval()\n",
    "    test_loss = 0\n",
    "    correct = 0\n",
    "    with torch.no_grad():\n",
    "        for x, y in test_loader:\n",
    "            output = network(x)\n",
    "            test_loss += lossFn(output, y).item()\n",
    "            pred = output.data.max(1, keepdim=True)[1]\n",
    "            correct += pred.eq(y.data.view_as(pred)).sum() \n",
    "            \n",
    "        accuracy = 100. * correct / len(test_loader.dataset)\n",
    "        test_accuracy.append(accuracy)\n",
    "        test_loss /= len(test_loader.dataset) / batchSize\n",
    "        test_losses.append(test_loss)\n",
    "        print('Test set: Avg. loss: {:.4f}, Accuracy: {}/{} ({:.0f}%)'.format(\n",
    "            test_loss, correct, len(test_loader.dataset),\n",
    "            accuracy))\n",
    "        \n",
    "test()\n",
    "for epoch in range(1, epochs + 1):\n",
    "    train(epoch, modelName = 'fc_768_128_10', printBatchInfo=False)\n",
    "    test()\n",
    "\n"
   ]
  },
  {
   "cell_type": "code",
   "execution_count": 6,
   "metadata": {},
   "outputs": [
    {
     "data": {
      "text/plain": [
       "<matplotlib.legend.Legend at 0x186c0c510>"
      ]
     },
     "execution_count": 6,
     "metadata": {},
     "output_type": "execute_result"
    },
    {
     "data": {
      "image/png": "[encoded data removed]",
      "text/plain": [
       "<Figure size 640x480 with 2 Axes>"
      ]
     },
     "metadata": {},
     "output_type": "display_data"
    }
   ],
   "source": [
    "fig, ax = plt.subplots()\n",
    "ax.plot(train_counter, train_losses, color='blue')\n",
    "ax.scatter(test_counter, test_losses, color='red')\n",
    "\n",
    "plt.xlabel('number of training examples seen')\n",
    "plt.ylabel('cross-entropy loss')\n",
    "ax2 = ax.twinx()\n",
    "ax2.scatter(test_counter, test_accuracy, color='green')\n",
    "#ax2.legend(['accuracy'], loc='center left')\n",
    "ax2.set_ylabel('accuracy')\n",
    "ax2.yaxis.set_label_position('right')\n",
    "fig.legend(['Train Loss', 'Test Loss', 'accuracy'], bbox_to_anchor=(0.7, 0.7), loc='upper left')"
   ]
  },
  {
   "cell_type": "code",
   "execution_count": 7,
   "metadata": {
    "slideshow": {
     "slide_type": "slide"
    }
   },
   "outputs": [
    {
     "data": {
      "image/png": "[encoded data removed]",
      "text/plain": [
       "<Figure size 640x480 with 6 Axes>"
      ]
     },
     "metadata": {},
     "output_type": "display_data"
    }
   ],
   "source": [
    "with torch.no_grad():\n",
    "    output = network(exampleData)\n",
    "\n",
    "fig = plt.figure()\n",
    "for i in range(6):\n",
    "    plt.subplot(2,3,i+1)\n",
    "    plt.tight_layout()\n",
    "    plt.imshow(exampleData[i][0], cmap='gray', interpolation='none')\n",
    "    plt.title(\"Prediction: {}\".format(output.data.max(1, keepdim=True)[1][i].item()))\n",
    "    plt.xticks([])\n",
    "    plt.yticks([])"
   ]
  },
  {
   "attachments": {},
   "cell_type": "markdown",
   "metadata": {
    "slideshow": {
     "slide_type": "slide"
    }
   },
   "source": [
    "### Random toys\n",
    "\n",
    "- [playground.tensorflow](http://playground.tensorflow.org/#activation=sigmoid&batchSize=10&dataset=circle&regDataset=reg-plane&learningRate=0.03&regularizationRate=0&noise=0&networkShape=2&seed=0.12602&showTestData=false&discretize=false&percTrainData=50&x=true&y=true&xTimesY=false&xSquared=false&ySquared=false&cosX=false&sinX=false&cosY=false&sinY=false&collectStats=false&problem=classification&initZero=false&hideText=false&regularization_hide=false)\n",
    "- [derivitives](https://www.mathsisfun.com/calculus/derivative-plotter.html)\n",
    "- [partial derivitives](https://www.geogebra.org/m/ptzufvkv)"
   ]
  },
  {
   "cell_type": "markdown",
   "metadata": {
    "slideshow": {
     "slide_type": "slide"
    },
    "tags": []
   },
   "source": [
    "### Overview\n",
    "\n",
    "1. Determine what the input data for the model will be\n",
    "2. Build training dataset\n",
    "    - inputs & target/label for each sample\n",
    "3. Determine what type of learning model to use & the structure of it\n",
    "    - NN, Random Forest, Gradient Boost, etc.\n",
    "4. Set hyperparameters & run the model over the training set\n",
    "    - Usually model will process the training set in batches of samples\n",
    "    - Walk the model down the optimization landscape\n",
    "5. Determine accuracy of model/function on the so far unused test-set data"
   ]
  },
  {
   "attachments": {},
   "cell_type": "markdown",
   "metadata": {
    "slideshow": {
     "slide_type": "slide"
    }
   },
   "source": [
    "### What do you think?\n",
    "\n",
    "- Ideas on how we could use ML at Brainium\n",
    "- Questions?\n"
   ]
  },
  {
   "attachments": {},
   "cell_type": "markdown",
   "metadata": {
    "slideshow": {
     "slide_type": "slide"
    }
   },
   "source": [
    "#### ML @Brainium\n",
    "\n",
    "- What can we use it for?\n",
    "- Rank game difficulties based on stats\n",
    "    - Move time, number of undos, etc.\n",
    "- Group players into catagories\n",
    "- Determine when & when not to play an ad to maximize player retention\n",
    "- etc."
   ]
  },
  {
   "cell_type": "markdown",
   "metadata": {},
   "source": []
  }
 ],
 "metadata": {
  "kernelspec": {
   "display_name": "Python 3 (ipykernel)",
   "language": "python",
   "name": "python3"
  },
  "language_info": {
   "codemirror_mode": {
    "name": "ipython",
    "version": 3
   },
   "file_extension": ".py",
   "mimetype": "text/x-python",
   "name": "python",
   "nbconvert_exporter": "python",
   "pygments_lexer": "ipython3",
   "version": "3.11.2"
  },
  "toc-autonumbering": true,
  "toc-showmarkdowntxt": false,
  "vscode": {
   "interpreter": {
    "hash": "aee8b7b246df8f9039afb4144a1f6fd8d2ca17a180786b69acc140d282b71a49"
   }
  }
 },
 "nbformat": 4,
 "nbformat_minor": 4
}
