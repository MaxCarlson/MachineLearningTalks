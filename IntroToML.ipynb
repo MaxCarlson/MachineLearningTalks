{
 "cells": [
  {
   "cell_type": "markdown",
   "metadata": {
    "slideshow": {
     "slide_type": "slide"
    },
    "tags": []
   },
   "source": [
    "# What is Machine Learning?\n",
    "\n",
    "### Machine Learning Paradigms\n",
    "- Supervised learning\n",
    "- Unsupervised learning\n",
    "- Reinforcement learning\n",
    "\n"
   ]
  },
  {
   "attachments": {},
   "cell_type": "markdown",
   "metadata": {
    "slideshow": {
     "slide_type": "slide"
    },
    "tags": []
   },
   "source": [
    "# Supervised Learning\n",
    "\n",
    "- Predict something given some data\n"
   ]
  },
  {
   "cell_type": "markdown",
   "metadata": {
    "slideshow": {
     "slide_type": "slide"
    },
    "tags": []
   },
   "source": [
    "## Inputs  \n",
    "\n",
    "- Data you want to learn a representation of\n",
    "- The input data can be viewed as a spreadsheet\n",
    "    - Each row is a single input to our model\n",
    "    - An input is composed of a set of features (columns in the spreadsheet)\n",
    "   \n"
   ]
  },
  {
   "attachments": {},
   "cell_type": "markdown",
   "metadata": {
    "slideshow": {
     "slide_type": "slide"
    },
    "tags": []
   },
   "source": [
    "## Targets\n",
    "- What are we trying to predict?\n",
    "- A target represents the ideal output of a model for a given input\n",
    "- Commonly stored as the last column\n",
    "\n",
    "<br/> \n",
    "<br/> \n",
    "\n",
    "| Height | Weight | Gender | Age | Smokes | % chance of developing heart disease over next yr |\n",
    "| --- | --- | --- | --- | --- | --- |\n",
    "| 71 | 165 | 1 | 27 | 0 | 0.053 |\n",
    "| 64 | 137 | 0 | 41 | 1 | 0.170 |"
   ]
  },
  {
   "cell_type": "code",
   "execution_count": 1,
   "metadata": {
    "slideshow": {
     "slide_type": "slide"
    },
    "tags": []
   },
   "outputs": [
    {
     "data": {
      "image/png": "[encoded data removed]",
      "text/plain": [
       "<Figure size 640x480 with 6 Axes>"
      ]
     },
     "metadata": {},
     "output_type": "display_data"
    }
   ],
   "source": [
    "import matplotlib.pyplot as plt\n",
    "from torchvision import datasets, transforms\n",
    "from torch.utils.data import DataLoader\n",
    "\n",
    "mnistDataset = datasets.MNIST('./data', train=True, download=True, \n",
    "                                transform=transforms.Compose([\n",
    "                                    transforms.ToTensor(),\n",
    "                                    transforms.Normalize(\n",
    "                                        (0.1307,), (0.3081,))\n",
    "                                ]))\n",
    "\n",
    "mnistExample = DataLoader(mnistDataset, batch_size=6)\n",
    "batchIdx, (exampleInput, exampleTargets) = next(enumerate(mnistExample))\n",
    "exampleData = exampleInput#.detach().numpy().squeeze()\n",
    "#plt.imshow(exampleData, cmap='gray')\n",
    "#plt.show()\n",
    "\n",
    "fig = plt.figure()\n",
    "for i in range(6):\n",
    "    plt.subplot(2,3,i+1)\n",
    "    plt.tight_layout()\n",
    "    plt.imshow(exampleData[i][0], cmap='gray', interpolation='none')\n",
    "    plt.title(\"Ground Truth: {}\".format(exampleTargets[i]))\n",
    "    plt.xticks([])\n",
    "    plt.yticks([])"
   ]
  },
  {
   "attachments": {},
   "cell_type": "markdown",
   "metadata": {
    "slideshow": {
     "slide_type": "slide"
    },
    "tags": []
   },
   "source": [
    "### A, b, c, d... \n",
    "\n",
    "- $N$ number of samples\n",
    "- $M$ number of features\n",
    "- $x$ set of inputs\n",
    "    - $x_i$ is a vector of `len(features)`\n",
    "    - $x$ is a $N \\times M$ matrix\n",
    "- $\\theta$ parameters of the network\n",
    "    - weights, biases\n",
    "- $f$ model (function)\n",
    "- $y$ set of targets/labels, the desired output for each sample in $x$\n",
    "    - Ground truth label  \n",
    "- $\\hat{y}$ output of our model (y-hat)  "
   ]
  },
  {
   "attachments": {},
   "cell_type": "markdown",
   "metadata": {
    "slideshow": {
     "slide_type": "slide"
    },
    "tags": []
   },
   "source": [
    "### Representations\n",
    "\n",
    "- The goal of our model is to learn a representation of $ f(x) = y $\n",
    "- The actual output of our model: $f(x) = \\hat{y}$\n",
    "- The ideal:\n",
    "    - For each individual vector $x_i$ give us an output $\\hat{y_i}$ that is as close to the ground truth $y_i$ as possible\n",
    "    - $\\forall{x_i} \\in \\: x,\\space f(x_i) = \\hat{y_i} = y_i$ "
   ]
  },
  {
   "attachments": {},
   "cell_type": "markdown",
   "metadata": {
    "slideshow": {
     "slide_type": "slide"
    }
   },
   "source": [
    "### One-hot encoding\n",
    "\n",
    "- Handwritten digits 0-9\n",
    "- Neural networks dont do well with scalar outputs for classification\n",
    "    - Instead our output is a vector of `length = 10`\n",
    "    - Encoded by index\n",
    "- One-hot example $y = 2$ \n",
    "    - $y = [0, 0, 1, 0, 0, 0, 0, 0, 0, 0]$"
   ]
  },
  {
   "attachments": {},
   "cell_type": "markdown",
   "metadata": {
    "slideshow": {
     "slide_type": "slide"
    },
    "tags": []
   },
   "source": [
    "### Neural Network\n",
    "\n",
    "- For a fully connected feed forward nueral network...\n",
    "    - Composed of layers of neurons\n",
    "    - Adjacent layer neurons always connected\n",
    "    - Output size depends on target\n",
    "    - Output from forward pass\n",
    "    - Training involves calculating the error of the networks output\n",
    "        - propogating that error back through the network\n",
    "            - changing the weights in a direction to minimize error on the next pass"
   ]
  },
  {
   "attachments": {},
   "cell_type": "markdown",
   "metadata": {
    "slideshow": {
     "slide_type": "slide"
    }
   },
   "source": [
    "\n",
    "<img src=\"images/A-fully-connected-neural-network-with-two-hidden-layers.png\" width=\"400\">\n"
   ]
  },
  {
   "cell_type": "code",
   "execution_count": 2,
   "metadata": {},
   "outputs": [
    {
     "name": "stdout",
     "output_type": "stream",
     "text": [
      "Net(\n",
      "  (flatten): Flatten(start_dim=1, end_dim=-1)\n",
      "  (l1): Linear(in_features=784, out_features=128, bias=True)\n",
      "  (l2): Linear(in_features=128, out_features=128, bias=True)\n",
      "  (l3): Linear(in_features=128, out_features=10, bias=True)\n",
      ")\n"
     ]
    }
   ],
   "source": [
    "import torch\n",
    "import torch.nn as nn\n",
    "import torch.nn.functional as F\n",
    "import torch.optim as optim\n",
    "\n",
    "batchSize = 32\n",
    "train_loader = DataLoader(mnistDataset, batch_size=batchSize, shuffle=True)\n",
    "test_loader = DataLoader(mnistDataset, batch_size=batchSize, shuffle=False)\n",
    "\n",
    "class Net(nn.Module):\n",
    "    def __init__(self):\n",
    "        super(Net, self).__init__()\n",
    "        self.flatten = nn.Flatten()\n",
    "        self.l1 = nn.Linear(784, 128)\n",
    "        self.l2 = nn.Linear(128, 128)\n",
    "        self.l3 = nn.Linear(128, 10)\n",
    "\n",
    "    def forward(self, x):\n",
    "        x = self.flatten(x)\n",
    "        x = self.l1(x)\n",
    "        x = F.relu(x)\n",
    "        x = self.l2(x)\n",
    "        x = F.relu(x)\n",
    "        x = self.l3(x)\n",
    "        return F.log_softmax(x, dim=1)\n",
    "    \n",
    "network = Net()\n",
    "print(network)"
   ]
  },
  {
   "attachments": {},
   "cell_type": "markdown",
   "metadata": {
    "slideshow": {
     "slide_type": "slide"
    }
   },
   "source": [
    "### Layers\n",
    "\n",
    "- Composed of a number of neurons\n",
    "- For every connection, there is a weight $w$\n",
    "- $w^k_{ij} \\in \\mathbb{R}$\n",
    "    - $i$ index of input\n",
    "    - $j$ index of neuron\n",
    "    - $k$ index of layer"
   ]
  },
  {
   "attachments": {},
   "cell_type": "markdown",
   "metadata": {
    "slideshow": {
     "slide_type": "slide"
    }
   },
   "source": [
    "\n",
    "### Neurons\n",
    "\n",
    "<img src=\"images/neuron.png\" width=\"400\">\n"
   ]
  },
  {
   "attachments": {},
   "cell_type": "markdown",
   "metadata": {
    "slideshow": {
     "slide_type": "slide"
    }
   },
   "source": [
    "### Neurons2\n",
    "\n",
    "- Layers of a network are composed of neurons\n",
    "- In a fully connected network, each neuron from $layer_k$ gives its output to each neuron in $layer_{k+1}$\n",
    "- A neuron has $n$ inputs\n",
    "- Activation function $\\phi$\n",
    "- For $neuron_j^k$\n",
    "\n",
    "    - Each input $x_i$ has an associated weight $w_{ij}^k \\in \\mathbb{R}$\n",
    "    \n",
    "    - Net input $z_j = net_j = \\sum_{i=1}^{n}x_i w_{ij}^k$\n",
    "    - The output $\\phi(z_j) = o_j$\n",
    "\n"
   ]
  },
  {
   "attachments": {},
   "cell_type": "markdown",
   "metadata": {
    "slideshow": {
     "slide_type": "slide"
    }
   },
   "source": [
    "### Activation Functions\n",
    "\n",
    "- Simulate the on/off firing of a biological neuron  \n",
    "\n",
    "- Must have a derivative at all points*\n",
    "- Sigmoid\n",
    "    - $\\phi(z) = \\frac{1}{1 + e^{-z}}$\n",
    "    \n",
    "    - $\\phi'(z) = \\phi(z)(1-\\phi(z))$\n",
    "- ReLU\n",
    "    - $\\phi(z) = maz(0, z)$\n",
    "\n",
    "    - $\\phi'(z) = z > 0 \\ ? \\ 1 : 0$\n",
    "    - *not differentiable at $0$ so derivative @ $0$ is usually set to $0$ or $1$\n",
    "- Linear\n",
    "    - $\\phi(z) = mz + b \\equiv I(z)$  \n",
    "    - not useful for MLP's\n",
    "    \n"
   ]
  },
  {
   "attachments": {},
   "cell_type": "markdown",
   "metadata": {
    "slideshow": {
     "slide_type": "slide"
    }
   },
   "source": [
    "#### Sigmoid\n",
    "<img src=\"images/sigmoid.png\" width=\"400\">\n",
    "\n",
    "#### ReLU\n",
    "<img src=\"images/relu.png\" width=\"400\">"
   ]
  },
  {
   "attachments": {},
   "cell_type": "markdown",
   "metadata": {
    "slideshow": {
     "slide_type": "slide"
    },
    "tags": []
   },
   "source": [
    "### Error / Loss\n",
    "\n",
    "- How inaccurate is our model?\n",
    "- Your error function must be differentiable\n",
    "- $X$ set of input output pairs of size $N$ is denoted $X = \\{(x_1,\\hat{y}_1),...,(x_N, \\hat{y}_N)\\}$\n",
    "\n",
    "- $E(X, \\theta) = MAE = \\dfrac{|\\hat{y} - y|}{N} = \\dfrac{\\sum_{i}^{N}{|\\hat{y}_i - y_i|}}{N} = L1 \\ norm$\n",
    "<br><br>\n",
    "- $E(X, \\theta) = MSE = \\dfrac{(\\hat{y} - y)^2}{N} = \\dfrac{\\sum_{i}^{N}{(\\hat{y}_i - y_i)^2}}{N} = L2 \\ norm$\n",
    "<br><br>\n",
    "- $E(X, \\theta) = \\dfrac{1}{2N}\\sum_{i}^{n}{(\\hat{y}_i - y_i)^2}$"
   ]
  },
  {
   "cell_type": "code",
   "execution_count": 3,
   "metadata": {
    "slideshow": {
     "slide_type": "skip"
    }
   },
   "outputs": [],
   "source": [
    "import os\n",
    "def saveNetwork(network, optimizer, modelName, epoch):\n",
    "    if not os.path.exists(f'results/{modelName}'):\n",
    "        os.makedirs(f'results/{modelName}')\n",
    "    torch.save(network.state_dict(), f'results/{modelName}/{epoch}-model.pth')\n",
    "    torch.save(optimizer.state_dict(), f'results/{modelName}/{epoch}-optim.pth')\n",
    "\n",
    "log_interval = 10\n",
    "def batchWork(network, optimizer, modelName, batch_idx, epoch, loss, train_losses, train_counter, printBatchInfo):   \n",
    "    if printBatchInfo:\n",
    "        print('Train Epoch: {} [{}/{} ({:.0f}%)]\\tLoss: {:.6f}'.format(\n",
    "            epoch, batch_idx * len(x), len(train_loader.dataset),\n",
    "            100. * batch_idx / len(train_loader), loss.item()))\n",
    "    train_losses.append(loss.item())\n",
    "    train_counter.append(\n",
    "        (batch_idx*batchSize) + ((epoch-1)*len(train_loader.dataset)))\n",
    "    saveNetwork(network, optimizer, modelName, epoch)"
   ]
  },
  {
   "attachments": {},
   "cell_type": "markdown",
   "metadata": {
    "slideshow": {
     "slide_type": "slide"
    }
   },
   "source": [
    "### Stochastic Gradient Descent\n",
    "\n",
    "- Algorithm for finding a local minimum of a differentiable function $F(p)$\n",
    "    - The gradient represents the direction in which change is the greatest at point $p$\n",
    "    <br><br>\n",
    "- Make a step in the opposite direction of the gradient\n",
    "    - Magnitude of a step moderated by \n",
    "        - learning rate $\\gamma \\in \\mathbb{R}$ \n",
    "        - size of gradient\n",
    "    - $\\gamma$ can change each iteration\n",
    "    <br><br>\n",
    "- Algorithm start at point $p$ and step $n$\n",
    "<br><br>\n",
    "    - $p_{n+1} = p_n - \\gamma \\nabla F(p_n)$\n"
   ]
  },
  {
   "attachments": {},
   "cell_type": "markdown",
   "metadata": {
    "slideshow": {
     "slide_type": "slide"
    }
   },
   "source": [
    "<img src=\"images/non-convex-sgd.jpg\" width=\"506\">\n",
    "<img src=\"images/global_min_1.png\" width=\"600\">"
   ]
  },
  {
   "attachments": {},
   "cell_type": "markdown",
   "metadata": {
    "slideshow": {
     "slide_type": "slide"
    }
   },
   "source": [
    "### SGD for FCNN's (i.e. Backpropogation)\n",
    "\n",
    "- Allows for us to find a local minimum based of our cost function $C(X, \\theta)$\n",
    "- Calculate the gradient of our error function for each neuron wrt. $\\theta$\n",
    "\n",
    "    - Find the gradient $\\nabla E(X, \\theta) = \\frac{\\partial E(X,\\theta)}{\\partial \\theta}$\n",
    "<br>\n",
    "<br>\n",
    "- $\\theta_{n+1} = \\theta_n - \\gamma \\nabla g(\\theta_n)$"
   ]
  },
  {
   "cell_type": "code",
   "execution_count": 4,
   "metadata": {
    "slideshow": {
     "slide_type": "slide"
    }
   },
   "outputs": [],
   "source": [
    "lr = 0.001\n",
    "optimizer = optim.SGD(network.parameters(), lr=lr)\n",
    "lossFn = nn.CrossEntropyLoss()\n",
    "\n",
    "epochs = 6\n",
    "train_losses = []\n",
    "train_counter = []\n",
    "test_losses = []\n",
    "test_counter = [i*len(train_loader.dataset) for i in range(epochs + 1)]\n",
    "\n",
    "def train(epoch, modelName, printBatchInfo = False):\n",
    "    network.train()\n",
    "    for batch_idx, (x, y) in enumerate(train_loader):\n",
    "        optimizer.zero_grad()\n",
    "\n",
    "        output = network(x)\n",
    "        loss = lossFn(output, y)\n",
    "        loss.backward()\n",
    "        optimizer.step()\n",
    "        \n",
    "        if batch_idx % log_interval == 0:\n",
    "            batchWork(network, optimizer, modelName, batch_idx, \n",
    "                      epoch, loss, train_losses, train_counter, printBatchInfo)\n",
    "\n",
    "#for epoch in range(1, 2):\n",
    "#    train(epoch, modelName='tmpModel', printBatchInfo=True)\n"
   ]
  },
  {
   "attachments": {},
   "cell_type": "markdown",
   "metadata": {
    "slideshow": {
     "slide_type": "slide"
    }
   },
   "source": [
    "#### Example batch training output\n",
    "```\n",
    "Train Epoch: 1 [0/60000 (0%)]\tLoss: 2.334714\n",
    "Train Epoch: 1 [280/60000 (1%)]\tLoss: 1.131673\n",
    "Train Epoch: 1 [560/60000 (1%)]\tLoss: 0.775013\n",
    "Train Epoch: 1 [840/60000 (2%)]\tLoss: 0.521945\n",
    "Train Epoch: 1 [1120/60000 (2%)]\tLoss: 0.847648\n",
    "Train Epoch: 1 [1400/60000 (3%)]\tLoss: 0.495903\n",
    "Train Epoch: 1 [1680/60000 (3%)]\tLoss: 0.422707\n",
    "Train Epoch: 1 [1960/60000 (4%)]\tLoss: 0.784840\n",
    "Train Epoch: 1 [2240/60000 (4%)]\tLoss: 0.450909\n",
    "Train Epoch: 1 [2520/60000 (5%)]\tLoss: 0.247951\n",
    "Train Epoch: 1 [2800/60000 (5%)]\tLoss: 0.739784\n",
    "```"
   ]
  },
  {
   "cell_type": "code",
   "execution_count": 5,
   "metadata": {
    "slideshow": {
     "slide_type": "slide"
    }
   },
   "outputs": [
    {
     "name": "stdout",
     "output_type": "stream",
     "text": [
      "Test set: Avg. loss: 2.3010, Accuracy: 7136/60000 (12%)\n",
      "Test set: Avg. loss: 1.1676, Accuracy: 46409/60000 (77%)\n",
      "Test set: Avg. loss: 0.5601, Accuracy: 51673/60000 (86%)\n",
      "Test set: Avg. loss: 0.4279, Accuracy: 52991/60000 (88%)\n",
      "Test set: Avg. loss: 0.3733, Accuracy: 53673/60000 (89%)\n",
      "Test set: Avg. loss: 0.3413, Accuracy: 54098/60000 (90%)\n",
      "Test set: Avg. loss: 0.3195, Accuracy: 54471/60000 (91%)\n"
     ]
    }
   ],
   "source": [
    "test_accuracy = []\n",
    "def test():\n",
    "    network.eval()\n",
    "    test_loss = 0\n",
    "    correct = 0\n",
    "    with torch.no_grad():\n",
    "        for x, y in test_loader:\n",
    "            output = network(x)\n",
    "            test_loss += lossFn(output, y).item()\n",
    "            pred = output.data.max(1, keepdim=True)[1]\n",
    "            correct += pred.eq(y.data.view_as(pred)).sum() \n",
    "            \n",
    "        accuracy = 100. * correct / len(test_loader.dataset)\n",
    "        test_accuracy.append(accuracy)\n",
    "        test_loss /= len(test_loader.dataset) / batchSize\n",
    "        test_losses.append(test_loss)\n",
    "        print('Test set: Avg. loss: {:.4f}, Accuracy: {}/{} ({:.0f}%)'.format(\n",
    "            test_loss, correct, len(test_loader.dataset),\n",
    "            accuracy))\n",
    "        \n",
    "test()\n",
    "for epoch in range(1, epochs + 1):\n",
    "    train(epoch, modelName = 'fc_768_128_10', printBatchInfo=False)\n",
    "    test()\n",
    "\n"
   ]
  },
  {
   "cell_type": "code",
   "execution_count": 6,
   "metadata": {},
   "outputs": [
    {
     "data": {
      "text/plain": [
       "[<matplotlib.lines.Line2D at 0x109d2e450>]"
      ]
     },
     "execution_count": 6,
     "metadata": {},
     "output_type": "execute_result"
    },
    {
     "data": {
      "image/png": "[encoded data removed]",
      "text/plain": [
       "<Figure size 640x480 with 2 Axes>"
      ]
     },
     "metadata": {},
     "output_type": "display_data"
    }
   ],
   "source": [
    "fig, ax = plt.subplots()\n",
    "ax.plot(train_counter, train_losses, color='blue')\n",
    "ax.scatter(test_counter, test_losses, color='red')\n",
    "ax.legend(['Train Loss', 'Test Loss'], loc='upper right')\n",
    "plt.xlabel('number of training examples seen')\n",
    "plt.ylabel('cross-entropy loss')\n",
    "ax2 = ax.twinx()\n",
    "ax2.plot(test_counter, test_accuracy, color='green')"
   ]
  },
  {
   "cell_type": "code",
   "execution_count": 7,
   "metadata": {},
   "outputs": [
    {
     "data": {
      "image/png": "[encoded data removed]",
      "text/plain": [
       "<Figure size 640x480 with 6 Axes>"
      ]
     },
     "metadata": {},
     "output_type": "display_data"
    }
   ],
   "source": [
    "with torch.no_grad():\n",
    "  output = network(exampleData)\n",
    "\n",
    "fig = plt.figure()\n",
    "for i in range(6):\n",
    "    plt.subplot(2,3,i+1)\n",
    "    plt.tight_layout()\n",
    "    plt.imshow(exampleData[i][0], cmap='gray', interpolation='none')\n",
    "    plt.title(\"Prediction: {}\".format(\n",
    "    output.data.max(1, keepdim=True)[1][i].item()))\n",
    "    plt.xticks([])\n",
    "    plt.yticks([])"
   ]
  },
  {
   "cell_type": "markdown",
   "metadata": {
    "slideshow": {
     "slide_type": "slide"
    }
   },
   "source": []
  },
  {
   "cell_type": "markdown",
   "metadata": {
    "slideshow": {
     "slide_type": "slide"
    },
    "tags": []
   },
   "source": [
    "### Overview\n",
    "\n",
    "1. Determine what the input data for the model will be\n",
    "2. Build training dataset\n",
    "    - inputs & target/label for each sample\n",
    "3. Determine what type of learning model to use & the structure of it\n",
    "    - NN, Random Forest, Gradient Boost, etc.\n",
    "4. Set hyperparameters & run the model over the training set\n",
    "    - Usually model will process the training set in batches of samples\n",
    "    - Walk the model down the optimization landscape\n",
    "5. Determine accuracy of model/function on the so far unused test-set data"
   ]
  },
  {
   "cell_type": "markdown",
   "metadata": {},
   "source": []
  }
 ],
 "metadata": {
  "kernelspec": {
   "display_name": "Python 3 (ipykernel)",
   "language": "python",
   "name": "python3"
  },
  "language_info": {
   "codemirror_mode": {
    "name": "ipython",
    "version": 3
   },
   "file_extension": ".py",
   "mimetype": "text/x-python",
   "name": "python",
   "nbconvert_exporter": "python",
   "pygments_lexer": "ipython3",
   "version": "3.11.2"
  },
  "toc-autonumbering": true,
  "toc-showmarkdowntxt": false,
  "vscode": {
   "interpreter": {
    "hash": "aee8b7b246df8f9039afb4144a1f6fd8d2ca17a180786b69acc140d282b71a49"
   }
  }
 },
 "nbformat": 4,
 "nbformat_minor": 4
}
