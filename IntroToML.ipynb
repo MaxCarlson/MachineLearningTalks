{
  "cells": [
    {
      "attachments": {
        "cd5e4d00-58e8-44d0-9df5-d2ec9402df86.png": {
          "image/png": "[encoded data removed]"
        }
      },
      "cell_type": "markdown",
      "metadata": {},
      "source": []
    },
    {
      "attachments": {},
      "cell_type": "markdown",
      "metadata": {},
      "source": [
        "# What is Machine Learning?\n",
        "\n",
        "### Machine Learning Paradigms\n",
        "- ### Supervised learning\n",
        "- ### Unsupervised learning\n",
        "- ### Reinforcement learning\n",
        "\n"
      ]
    },
    {
      "attachments": {},
      "cell_type": "markdown",
      "metadata": {},
      "source": [
        "\n",
        "Subfields of ML\n",
        "- Neural Networks\n",
        "- Statistical Algorithms\n",
        "- "
      ]
    },
    {
      "attachments": {},
      "cell_type": "markdown",
      "metadata": {},
      "source": [
        "## Supervised Learning\n",
        "- Most commonly what people mean when they say Machine Learning\n",
        "- \n",
        "\n",
        "\n"
      ]
    },
    {
      "attachments": {},
      "cell_type": "markdown",
      "metadata": {
        "slideshow": {
          "slide_type": "slide"
        }
      },
      "source": [
        "### Steps\n",
        "\n",
        "1. Determine what the input data for the model will be\n",
        "2. Build training dataset\n",
        "    - inputs & target/label for each sample\n",
        "3. Determine what type of learning model to use & the structure of it\n",
        "    - NN, Random Forest, Gradient Boost, etc.\n",
        "4. Set hyperparameters & run the model over the training set\n",
        "    - Usually model will process the training set in batches of samples\n",
        "    - Walk the model down the optimization landscape\n",
        "5. Determine accuracy of model/function on the so far unused test-set data"
      ]
    },
    {
      "attachments": {},
      "cell_type": "markdown",
      "metadata": {},
      "source": [
        "### Supervised Learning\n",
        "\n",
        "- **A Model**\n",
        "    - Predict something given some data\n",
        "\n",
        "- **Inputs**\n",
        "    - Data you want to learn a representation of\n",
        "    - The input data can be viewed as a spreadsheet\n",
        "        - Each row is a single input to our model\n",
        "        - An input is composed of a set of features (columns in the spreadsheet)\n",
        "   \n",
        "\n",
        "- **Targets**\n",
        "    - What are we trying to predict?\n",
        "    - A target represents the ideal output of a model for a given input\n",
        "    - Commonly stored as the last column\n",
        "\n",
        "<br/> \n",
        "<br/> \n",
        "\n",
        "| Height | Weight | Gender | Age | Smokes | % chance of developing heart disease over next yr |\n",
        "| --- | --- | --- | --- | --- | --- |\n",
        "| 71 | 165 | 1 | 27 | 0 | 0.053 |\n",
        "| 68 | 137 | 0 | 41 | 1 | 0.170 |\n",
        "\n",
        "\n",
        "\n",
        "    \n"
      ]
    },
    {
      "cell_type": "code",
      "execution_count": null,
      "metadata": {},
      "outputs": [],
      "source": [
        "import torch\n",
        "import torchvision\n",
        "import matplotlib.pyplot as plt\n",
        "from torchvision import datasets, transforms\n",
        "from torch.utils.data import DataLoader\n",
        "\n",
        "batchSize = 32\n",
        "\n",
        "mnistDataset = datasets.MNIST('./data', train=True, download=True, \n",
        "                                transform=transforms.Compose([\n",
        "                                    transforms.ToTensor(),\n",
        "                                    transforms.Normalize(\n",
        "                                        (0.1307,), (0.3081,))\n",
        "                                ]))\n",
        "\n",
        "mnistExample = DataLoader(mnistDataset, batch_size=1)\n",
        "batchIdx, (exampleInput, exampleTarget) = next(enumerate(mnistExample))\n",
        "x = exampleInput.detach().numpy().squeeze()\n",
        "plt.imshow(x)\n",
        "plt.show()\n",
        "\n"
      ]
    },
    {
      "attachments": {},
      "cell_type": "markdown",
      "metadata": {},
      "source": [
        "### A, b, c, d... \n",
        "\n",
        "- $x$ collection of input data, a collection of vectors\n",
        "    - $x_i$ individual sample of $x$\n",
        "- $n$ number of samples\n",
        "- $f$ model (function)\n",
        "- $y$ collection of targets/labels, while the desired output for each sample in $x$\n",
        "    - Ground truth label  \n",
        "- $\\hat{y}$ output of our model (y-hat)  \n",
        "    \n"
      ]
    },
    {
      "attachments": {},
      "cell_type": "markdown",
      "metadata": {},
      "source": [
        "### Representations\n",
        "\n",
        "- The goal of our model is to learn a representation of $ f(x) = y $\n",
        "- The actual output of our model is $f(x) = \\hat{y}$\n",
        "- What our model/function does:\n",
        "    - For each individual vector $x_i$ give us an output $\\hat{y_i}$ that is as close to the ground truth $y_i$ as possible\n",
        "- Ideal: $\\forall{x_i} \\in \\: x,\\space f(x_i) = \\hat{y_i} = y_i$ "
      ]
    },
    {
      "attachments": {},
      "cell_type": "markdown",
      "metadata": {},
      "source": [
        "### Error\n",
        "\n",
        "- How inaccurate is our model?\n",
        "\n",
        "- $E = MAE = \\dfrac{|\\hat{y} - y|}{n} = \\dfrac{\\sum_{i}^{n}{|\\hat{y}_i - y_i|}}{n} = L1$\n",
        "\n",
        "- $E = MSE = \\dfrac{(\\hat{y} - y)^2}{n} = \\dfrac{\\sum_{i}^{n}{(\\hat{y}_i - y_i)^2}}{n} = L2$\n",
        "- Ex:\n",
        "    - $y = [1, 2, 3]$\n",
        "    - $\\hat{y} = [7, 2, -2]$\n",
        "    \n",
        "    - $MAE = \\dfrac{(7-1)+(2-2)+(-2-3)}{3}$"
      ]
    },
    {
      "attachments": {},
      "cell_type": "markdown",
      "metadata": {},
      "source": [
        "### Loss\n",
        "\n",
        "- Your error & loss function are coupled \n",
        "- Your error function must be differentiable\n",
        "- $C = loss fn = (Cost function)$\n",
        "- $SqErr = e_i = (\\hat{y_i} - y_i)^2$  \n",
        "\n",
        "- $SEL = C = 2(\\hat{y} - y)$\n",
        "    - $(\\hat{y} - y)$\n"
      ]
    }
  ],
  "metadata": {
    "kernelspec": {
      "display_name": "Python 3",
      "language": "python",
      "name": "python3"
    },
    "language_info": {
      "codemirror_mode": {
        "name": "ipython",
        "version": 3
      },
      "file_extension": ".py",
      "mimetype": "text/x-python",
      "name": "python",
      "nbconvert_exporter": "python",
      "pygments_lexer": "ipython3",
      "version": "3.11.2"
    },
    "vscode": {
      "interpreter": {
        "hash": "aee8b7b246df8f9039afb4144a1f6fd8d2ca17a180786b69acc140d282b71a49"
      }
    }
  },
  "nbformat": 4,
  "nbformat_minor": 4
}
