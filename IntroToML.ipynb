{
 "cells": [
  {
   "cell_type": "markdown",
   "metadata": {
    "slideshow": {
     "slide_type": "slide"
    },
    "tags": []
   },
   "source": [
    "# What is Machine Learning?\n",
    "\n",
    "### Machine Learning Paradigms\n",
    "- Supervised learning\n",
    "- Unsupervised learning\n",
    "- Reinforcement learning\n",
    "\n"
   ]
  },
  {
   "attachments": {},
   "cell_type": "markdown",
   "metadata": {
    "slideshow": {
     "slide_type": "slide"
    },
    "tags": []
   },
   "source": [
    "# Supervised Learning\n",
    "\n",
    "- Predict something given some data\n"
   ]
  },
  {
   "cell_type": "markdown",
   "metadata": {
    "slideshow": {
     "slide_type": "slide"
    },
    "tags": []
   },
   "source": [
    "## Inputs  \n",
    "\n",
    "- Data you want to learn a representation of\n",
    "- The input data can be viewed as a spreadsheet\n",
    "    - Each row is a single input to our model\n",
    "    - An input is composed of a set of features (columns in the spreadsheet)\n",
    "   \n"
   ]
  },
  {
   "attachments": {},
   "cell_type": "markdown",
   "metadata": {
    "slideshow": {
     "slide_type": "slide"
    },
    "tags": []
   },
   "source": [
    "## Targets\n",
    "- What are we trying to predict?\n",
    "- A target represents the ideal output of a model for a given input\n",
    "- Commonly stored as the last column\n",
    "\n",
    "<br/> \n",
    "<br/> \n",
    "\n",
    "| Height | Weight | Gender | Age | Smokes | % chance of developing heart disease over next yr |\n",
    "| --- | --- | --- | --- | --- | --- |\n",
    "| 71 | 165 | 1 | 27 | 0 | 0.053 |\n",
    "| 64 | 137 | 0 | 41 | 1 | 0.170 |"
   ]
  },
  {
   "cell_type": "code",
   "execution_count": 48,
   "metadata": {
    "slideshow": {
     "slide_type": "slide"
    },
    "tags": []
   },
   "outputs": [
    {
     "data": {
      "image/png": "[encoded data removed]",
      "text/plain": [
       "<Figure size 640x480 with 6 Axes>"
      ]
     },
     "metadata": {},
     "output_type": "display_data"
    }
   ],
   "source": [
    "import matplotlib.pyplot as plt\n",
    "from torchvision import datasets, transforms\n",
    "from torch.utils.data import DataLoader\n",
    "\n",
    "mnistDataset = datasets.MNIST('./data', train=True, download=True, \n",
    "                                transform=transforms.Compose([\n",
    "                                    transforms.ToTensor(),\n",
    "                                    transforms.Normalize(\n",
    "                                        (0.1307,), (0.3081,))\n",
    "                                ]))\n",
    "\n",
    "mnistExample = DataLoader(mnistDataset, batch_size=6)\n",
    "batchIdx, (exampleInput, exampleTargets) = next(enumerate(mnistExample))\n",
    "exampleData = exampleInput#.detach().numpy().squeeze()\n",
    "#plt.imshow(exampleData, cmap='gray')\n",
    "#plt.show()\n",
    "\n",
    "fig = plt.figure()\n",
    "for i in range(6):\n",
    "    plt.subplot(2,3,i+1)\n",
    "    plt.tight_layout()\n",
    "    plt.imshow(exampleData[i][0], cmap='gray', interpolation='none')\n",
    "    plt.title(\"Ground Truth: {}\".format(exampleTargets[i]))\n",
    "    plt.xticks([])\n",
    "    plt.yticks([])\n",
    "\n"
   ]
  },
  {
   "attachments": {},
   "cell_type": "markdown",
   "metadata": {
    "slideshow": {
     "slide_type": "slide"
    },
    "tags": []
   },
   "source": [
    "### A, b, c, d... \n",
    "\n",
    "- $x$ collection of input data, a vector of vectors \n",
    "    - $x_i$ individual sample of $x$\n",
    "        - a vector whose size is equal to the number of features being used\n",
    "- $n$ number of samples\n",
    "- $f$ model (function)\n",
    "- $y$ collection of targets/labels, the desired output for each sample in $x$\n",
    "    - Ground truth label  \n",
    "- $\\hat{y}$ output of our model (y-hat)  \n",
    "    \n"
   ]
  },
  {
   "attachments": {},
   "cell_type": "markdown",
   "metadata": {
    "slideshow": {
     "slide_type": "slide"
    },
    "tags": []
   },
   "source": [
    "### Representations\n",
    "\n",
    "- The goal of our model is to learn a representation of $ f(x) = y $\n",
    "- The actual output of our model: $f(x) = \\hat{y}$\n",
    "- The ideal:\n",
    "    - For each individual vector $x_i$ give us an output $\\hat{y_i}$ that is as close to the ground truth $y_i$ as possible\n",
    "    - $\\forall{x_i} \\in \\: x,\\space f(x_i) = \\hat{y_i} = y_i$ "
   ]
  },
  {
   "attachments": {},
   "cell_type": "markdown",
   "metadata": {
    "slideshow": {
     "slide_type": "slide"
    },
    "tags": []
   },
   "source": [
    "### Neural Network\n",
    "\n",
    "- For a fully connected feed forward nueral network...\n",
    "    - Composed of layers of neurons\n",
    "    - Adjacent layer neurons always connected\n",
    "    - output size depends on target"
   ]
  },
  {
   "attachments": {},
   "cell_type": "markdown",
   "metadata": {
    "slideshow": {
     "slide_type": "slide"
    }
   },
   "source": [
    "\n",
    "<img src=\"images/A-fully-connected-neural-network-with-two-hidden-layers.png\" width=\"400\">\n"
   ]
  },
  {
   "attachments": {},
   "cell_type": "markdown",
   "metadata": {
    "slideshow": {
     "slide_type": "slide"
    }
   },
   "source": [
    "### Layers\n",
    "\n",
    "- Composed of a number of neurons\n",
    "- For every connection, there is a weight $w$\n",
    "- $w^k_{ij} \\in \\mathbb{R}$\n",
    "    - $i$ index of input\n",
    "    - $j$ index of neuron\n",
    "    - $k$ index of layer"
   ]
  },
  {
   "attachments": {},
   "cell_type": "markdown",
   "metadata": {
    "slideshow": {
     "slide_type": "slide"
    }
   },
   "source": [
    "\n",
    "### Neurons\n",
    "\n",
    "<img src=\"images/neuron.png\" width=\"400\">\n"
   ]
  },
  {
   "attachments": {},
   "cell_type": "markdown",
   "metadata": {
    "slideshow": {
     "slide_type": "slide"
    }
   },
   "source": [
    "### Neurons2\n",
    "\n",
    "- Layers of a network are composed of neurons\n",
    "- In a fully connected network, each neuron from $layer_k$ gives its output to each neuron in $layer_{k+1}$\n",
    "- A neuron has $n$ inputs\n",
    "- Activation function $\\phi$\n",
    "- For $neuron_j$\n",
    "    - Each input $x_i$ has an associated weight $w_{ij} \\in \\mathbb{R}$\n",
    "    - Net input $z_j = net_j = \\sum_{i=1}^{n}x_i w_{ij}$\n",
    "    - The output $\\phi(z_j) = o_j$\n",
    "\n"
   ]
  },
  {
   "attachments": {},
   "cell_type": "markdown",
   "metadata": {
    "slideshow": {
     "slide_type": "slide"
    }
   },
   "source": [
    "### Activation Functions\n",
    "\n",
    "- Simulate the on/off firing of a biological neuron  \n",
    "\n",
    "- Must have a derivative at all points*\n",
    "- Sigmoid\n",
    "    - $\\phi(z) = \\frac{1}{1 + e^{-z}}$\n",
    "    \n",
    "    - $\\phi'(z) = \\phi(z)(1-\\phi(z))$\n",
    "- ReLU\n",
    "    - $\\phi(z) = maz(0, z)$\n",
    "\n",
    "    - $\\phi'(z) = z > 0 \\ ? \\ 1 : 0$\n",
    "    - *not differentiable at $0$ so derivative @ $0$ is usually set to $0$ or $1$\n",
    "- Linear\n",
    "    - $\\phi(z) = mz + b \\equiv I(z)$  \n",
    "    - not useful for MLP's\n",
    "    \n"
   ]
  },
  {
   "attachments": {},
   "cell_type": "markdown",
   "metadata": {
    "slideshow": {
     "slide_type": "slide"
    }
   },
   "source": [
    "#### Sigmoid\n",
    "<img src=\"images/sigmoid.png\" width=\"400\">\n",
    "\n",
    "#### ReLU\n",
    "<img src=\"images/relu.png\" width=\"400\">"
   ]
  },
  {
   "cell_type": "code",
   "execution_count": null,
   "metadata": {},
   "outputs": [],
   "source": [
    "import torch\n",
    "import torch.nn as nn\n",
    "import torch.nn.functional as F\n",
    "import torch.optim as optim\n",
    "\n",
    "batchSize = 32\n",
    "train_loader = DataLoader(mnistDataset, batch_size=batchSize, shuffle=True)\n",
    "test_loader = DataLoader(mnistDataset, batch_size=batchSize, shuffle=False)\n",
    "\n",
    "class Net(nn.Module):\n",
    "    def __init__(self):\n",
    "        super(Net, self).__init__()\n",
    "        self.flatten = nn.Flatten()\n",
    "        self.l1 = nn.Linear(784, 128)\n",
    "        self.l2 = nn.Linear(128, 128)\n",
    "        self.l3 = nn.Linear(128, 10)\n",
    "\n",
    "    def forward(self, x):\n",
    "        x = self.flatten(x)\n",
    "        x = self.l1(x)\n",
    "        x = F.relu(x)\n",
    "        x = self.l2(x)\n",
    "        x = F.relu(x)\n",
    "        x = self.l3(x)\n",
    "        return F.log_softmax(x, dim=1)\n",
    "    \n",
    "network = Net()\n",
    "print(network)"
   ]
  },
  {
   "cell_type": "code",
   "execution_count": null,
   "metadata": {
    "slideshow": {
     "slide_type": "skip"
    }
   },
   "outputs": [],
   "source": [
    "import os\n",
    "def saveNetwork(network, optimizer, modelName, epoch):\n",
    "    if not os.path.exists(f'results/{modelName}'):\n",
    "        os.makedirs(f'results/{modelName}')\n",
    "    torch.save(network.state_dict(), f'results/{modelName}/{epoch}-model.pth')\n",
    "    torch.save(optimizer.state_dict(), f'results/{modelName}/{epoch}-optim.pth')\n",
    "\n",
    "log_interval = 10\n",
    "def batchWork(network, optimizer, modelName, batch_idx, epoch, loss, train_losses, train_counter, printBatchInfo):   \n",
    "    if printBatchInfo:\n",
    "        print('Train Epoch: {} [{}/{} ({:.0f}%)]\\tLoss: {:.6f}'.format(\n",
    "            epoch, batch_idx * len(x), len(train_loader.dataset),\n",
    "            100. * batch_idx / len(train_loader), loss.item()))\n",
    "    train_losses.append(loss.item())\n",
    "    train_counter.append(\n",
    "        (batch_idx*batchSize) + ((epoch-1)*len(train_loader.dataset)))\n",
    "    saveNetwork(network, optimizer, modelName, epoch)"
   ]
  },
  {
   "cell_type": "code",
   "execution_count": null,
   "metadata": {
    "slideshow": {
     "slide_type": "slide"
    }
   },
   "outputs": [],
   "source": [
    "lr = 0.0001\n",
    "optimizer = optim.SGD(network.parameters(), lr=lr)\n",
    "lossFn = nn.CrossEntropyLoss()\n",
    "\n",
    "epochs = 2\n",
    "train_losses = []\n",
    "train_counter = []\n",
    "test_losses = []\n",
    "test_counter = [i*len(test_loader.dataset) for i in range(epochs + 1)]\n",
    "\n",
    "def train(epoch, modelName, printBatchInfo = False):\n",
    "    network.train()\n",
    "    for batch_idx, (x, y) in enumerate(train_loader):\n",
    "        optimizer.zero_grad()\n",
    "\n",
    "        output = network(x)\n",
    "        loss = lossFn(output, y)\n",
    "        loss.backward()\n",
    "        optimizer.step()\n",
    "        \n",
    "        if batch_idx % log_interval == 0:\n",
    "            batchWork(network, optimizer, modelName, batch_idx, \n",
    "                      epoch, loss, train_losses, train_counter, printBatchInfo)\n",
    "\n",
    "#for epoch in range(1, 2):\n",
    "#    train(epoch, modelName='tmpModel', printBatchInfo=True)\n"
   ]
  },
  {
   "attachments": {},
   "cell_type": "markdown",
   "metadata": {
    "slideshow": {
     "slide_type": "slide"
    }
   },
   "source": [
    "#### Example batch training output\n",
    "```\n",
    "Train Epoch: 1 [0/60000 (0%)]\tLoss: 2.334714\n",
    "Train Epoch: 1 [280/60000 (1%)]\tLoss: 1.131673\n",
    "Train Epoch: 1 [560/60000 (1%)]\tLoss: 0.775013\n",
    "Train Epoch: 1 [840/60000 (2%)]\tLoss: 0.521945\n",
    "Train Epoch: 1 [1120/60000 (2%)]\tLoss: 0.847648\n",
    "Train Epoch: 1 [1400/60000 (3%)]\tLoss: 0.495903\n",
    "Train Epoch: 1 [1680/60000 (3%)]\tLoss: 0.422707\n",
    "Train Epoch: 1 [1960/60000 (4%)]\tLoss: 0.784840\n",
    "Train Epoch: 1 [2240/60000 (4%)]\tLoss: 0.450909\n",
    "Train Epoch: 1 [2520/60000 (5%)]\tLoss: 0.247951\n",
    "Train Epoch: 1 [2800/60000 (5%)]\tLoss: 0.739784\n",
    "```"
   ]
  },
  {
   "cell_type": "code",
   "execution_count": null,
   "metadata": {
    "slideshow": {
     "slide_type": "slide"
    }
   },
   "outputs": [],
   "source": [
    "def test():\n",
    "    network.eval()\n",
    "    test_loss = 0\n",
    "    correct = 0\n",
    "    with torch.no_grad():\n",
    "        for x, y in test_loader:\n",
    "            output = network(x)\n",
    "            test_loss += lossFn(output, y).item()\n",
    "            pred = output.data.max(1, keepdim=True)[1]\n",
    "            correct += pred.eq(y.data.view_as(pred)).sum() \n",
    "    \n",
    "        test_loss /= len(test_loader.dataset)\n",
    "        test_losses.append(test_loss)\n",
    "        print('Test set: Avg. loss: {:.4f}, Accuracy: {}/{} ({:.0f}%)'.format(\n",
    "            test_loss, correct, len(test_loader.dataset),\n",
    "            100. * correct / len(test_loader.dataset)))\n",
    "        \n",
    "test()\n",
    "for epoch in range(1, epochs + 1):\n",
    "  train(epoch, modelName = 'fc_768_128_10', printBatchInfo=False)\n",
    "  test()\n",
    "\n"
   ]
  },
  {
   "cell_type": "code",
   "execution_count": null,
   "metadata": {},
   "outputs": [],
   "source": [
    "fig = plt.figure()\n",
    "plt.plot(train_counter, train_losses, color='blue')\n",
    "plt.scatter(test_counter, test_losses, color='red')\n",
    "plt.legend(['Train Loss', 'Test Loss'], loc='upper right')\n",
    "plt.xlabel('number of training examples seen')\n",
    "plt.ylabel('negative log likelihood loss')\n",
    "fig"
   ]
  },
  {
   "cell_type": "markdown",
   "metadata": {
    "slideshow": {
     "slide_type": "slide"
    },
    "tags": []
   },
   "source": [
    "### Error\n",
    "\n",
    "- How inaccurate is our model?\n",
    "\n",
    "- $E = MAE = \\dfrac{|\\hat{y} - y|}{n} = \\dfrac{\\sum_{i}^{n}{|\\hat{y}_i - y_i|}}{n} = L1$\n",
    "\n",
    "- $E = MSE = \\dfrac{(\\hat{y} - y)^2}{n} = \\dfrac{\\sum_{i}^{n}{(\\hat{y}_i - y_i)^2}}{n} = L2$\n",
    "- Ex:\n",
    "    - $y = [1, 2, 3]$\n",
    "    - $\\hat{y} = [7, 2, -2]$\n",
    "    \n",
    "    - $MAE = \\dfrac{(7-1)+(2-2)+(-2-3)}{3}$"
   ]
  },
  {
   "cell_type": "markdown",
   "metadata": {
    "slideshow": {
     "slide_type": "slide"
    },
    "tags": []
   },
   "source": [
    "### Loss\n",
    "\n",
    "- Your error & loss function are coupled \n",
    "- Your error function must be differentiable\n",
    "- $C = loss fn = (Cost function)$\n",
    "- $SqErr = e_i = (\\hat{y_i} - y_i)^2$  \n",
    "\n",
    "- $SEL = C = 2(\\hat{y} - y)$\n",
    "    - $(\\hat{y} - y)$\n"
   ]
  },
  {
   "cell_type": "markdown",
   "metadata": {
    "slideshow": {
     "slide_type": "slide"
    },
    "tags": []
   },
   "source": [
    "### Overview\n",
    "\n",
    "1. Determine what the input data for the model will be\n",
    "2. Build training dataset\n",
    "    - inputs & target/label for each sample\n",
    "3. Determine what type of learning model to use & the structure of it\n",
    "    - NN, Random Forest, Gradient Boost, etc.\n",
    "4. Set hyperparameters & run the model over the training set\n",
    "    - Usually model will process the training set in batches of samples\n",
    "    - Walk the model down the optimization landscape\n",
    "5. Determine accuracy of model/function on the so far unused test-set data"
   ]
  },
  {
   "cell_type": "code",
   "execution_count": null,
   "metadata": {},
   "outputs": [],
   "source": []
  }
 ],
 "metadata": {
  "kernelspec": {
   "display_name": "Python 3 (ipykernel)",
   "language": "python",
   "name": "python3"
  },
  "language_info": {
   "codemirror_mode": {
    "name": "ipython",
    "version": 3
   },
   "file_extension": ".py",
   "mimetype": "text/x-python",
   "name": "python",
   "nbconvert_exporter": "python",
   "pygments_lexer": "ipython3",
   "version": "3.10.7"
  },
  "toc-autonumbering": true,
  "toc-showmarkdowntxt": false,
  "vscode": {
   "interpreter": {
    "hash": "aee8b7b246df8f9039afb4144a1f6fd8d2ca17a180786b69acc140d282b71a49"
   }
  }
 },
 "nbformat": 4,
 "nbformat_minor": 4
}
